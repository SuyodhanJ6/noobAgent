{
 "cells": [
  {
   "cell_type": "code",
   "execution_count": 3,
   "metadata": {},
   "outputs": [
    {
     "name": "stdout",
     "output_type": "stream",
     "text": [
      "## Search Results\n",
      "\n",
      "[Paris - Wikipedia](https://en.wikipedia.org/wiki/Paris)\n",
      "Paris (French pronunciation: ⓘ) is the capital and largest city of France.With an estimated population of 2,048,472 residents in January 2025 [3] in an area of more than 105 km 2 (41 sq mi), [4] Paris is the fourth-most populous city in the European Union, the ninth-most populous city in Europe and the 30th most densely populated city in the world in 2022. [5]\n",
      "\n",
      "[Paris | Definition, Map, Population, Facts, & History | Britannica](https://www.britannica.com/place/Paris)\n",
      "Paris, city and capital of France, located along the Seine River, in the north-central part of the country. Paris is one of the world's most important and attractive cities, famed for its gastronomy, haute couture, painting, literature, and intellectual community. Learn more about Paris in this article.\n",
      "\n",
      "[What is the Capital of France? - WorldAtlas](https://www.worldatlas.com/articles/what-is-the-capital-of-france.html)\n",
      "Learn about Paris, the largest and most populous city in France, and its history, geography, economy, tourism, and administration. Find out why Paris is called the City of Light and the City of Love.\n",
      "\n",
      "[France | History, Maps, Flag, Population, Cities, Capital, & Facts ...](https://www.britannica.com/place/France)\n",
      "France, a country of northwestern Europe, is historically and culturally among the most important countries in the Western world. It has also played a highly significant role in international affairs for centuries. Its capital is Paris, one of the most important cultural and commercial centers in the world.\n",
      "\n",
      "[Paris: Facts & Related Content - Encyclopedia Britannica](https://www.britannica.com/facts/Paris)\n",
      "Paris is the capital of France, located in the north-central part of the country. It is a major centre of commerce, culture, and tourism, with famous landmarks such as the Eiffel Tower, the Louvre Museum, and Notre-Dame de Paris.\n",
      "\n",
      "[Capital of France - Simple English Wikipedia, the free encyclopedia](https://simple.wikipedia.org/wiki/Capital_of_France)\n",
      "Learn about the history and current status of the capital of France, which is Paris. Find out which other cities have been the national capital in different periods of time.\n",
      "\n",
      "[What is the Capital of France? - Mappr](https://www.mappr.co/capital-cities/france/)\n",
      "Learn why Paris is the capital of France and how it became a global city with a rich cultural heritage. Discover its geography, climate, population, landmarks, and industries.\n",
      "\n",
      "[Paris - Kids | Britannica Kids | Homework Help](https://kids.britannica.com/kids/article/Paris/345991)\n",
      "Paris is the capital of the country of France. It has long been one of western Europe's major centers of culture and business. Some of the world's greatest artists, writers, scholars, fashion designers, and chefs have lived in Paris. The city is also famous for its beauty. The Seine River flows through the city center.\n",
      "\n",
      "[France - Wikipedia](https://en.wikipedia.org/wiki/France)\n",
      "France is a semi-presidential republic and its capital, largest city and main cultural and economic centre is Paris. Metropolitan France was settled during the Iron Age by Celtic tribes known as Gauls before Rome annexed the area in 51 BC, leading to a distinct Gallo-Roman culture.\n",
      "\n",
      "[Paris, France - New World Encyclopedia](https://www.newworldencyclopedia.org/entry/Paris,_France)\n",
      "Paris is the capital city of France, situated on the River Seine, in northern France, at the heart of the Île-de-France region (\"Région parisienne\").The Paris \"aire urbaine\" (roughly: \"metropolitan area\") is one of the most populated areas of its kind in Europe, with a population of roughly 12 million, including 10 million in the Paris urban area, plus the population of the commuter belt ...\n"
     ]
    }
   ],
   "source": [
    "from smolagents import DuckDuckGoSearchTool\n",
    "\n",
    "search_tool = DuckDuckGoSearchTool()\n",
    "\n",
    "print(search_tool(\"What is the capital of France?\"))\n"
   ]
  },
  {
   "cell_type": "code",
   "execution_count": 7,
   "metadata": {},
   "outputs": [
    {
     "data": {
      "application/vnd.jupyter.widget-view+json": {
       "model_id": "8f2147a66dd44fc39e954901279255fe",
       "version_major": 2,
       "version_minor": 0
      },
      "text/plain": [
       "VBox(children=(HTML(value='<center> <img\\nsrc=https://huggingface.co/front/assets/huggingface_logo-noborder.sv…"
      ]
     },
     "metadata": {},
     "output_type": "display_data"
    }
   ],
   "source": [
    "from huggingface_hub import login\n",
    "\n",
    "# login()"
   ]
  },
  {
   "cell_type": "code",
   "execution_count": null,
   "metadata": {},
   "outputs": [],
   "source": [
    "\n",
    "login()"
   ]
  },
  {
   "cell_type": "code",
   "execution_count": null,
   "metadata": {},
   "outputs": [],
   "source": []
  }
 ],
 "metadata": {
  "kernelspec": {
   "display_name": ".venv",
   "language": "python",
   "name": "python3"
  },
  "language_info": {
   "codemirror_mode": {
    "name": "ipython",
    "version": 3
   },
   "file_extension": ".py",
   "mimetype": "text/x-python",
   "name": "python",
   "nbconvert_exporter": "python",
   "pygments_lexer": "ipython3",
   "version": "3.11.0rc1"
  }
 },
 "nbformat": 4,
 "nbformat_minor": 2
}
